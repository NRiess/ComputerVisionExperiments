{
 "cells": [
  {
   "cell_type": "markdown",
   "metadata": {},
   "source": [
    "# 1. Bag-of-Words (Bow) model"
   ]
  },
  {
   "cell_type": "code",
   "execution_count": 79,
   "metadata": {},
   "outputs": [],
   "source": [
    "import numpy as np\n",
    "import cv2 as cv\n",
    "from sklearn.cluster import KMeans\n",
    "\n",
    "class Dictionary(object):\n",
    "    def __init__(self, name, img_filenames, num_words):\n",
    "        self.name = name\n",
    "        self.img_filenames = img_filenames\n",
    "        self.num_words = num_words\n",
    "\n",
    "        self.training_data = []\n",
    "        self.words = []\n",
    "\n",
    "    def learn(self):\n",
    "        sift = cv.SIFT_create()\n",
    "\n",
    "        num_keypoints = []\n",
    "\n",
    "        # load training images and compute SIFT descriptors\n",
    "        for filename in self.img_filenames:\n",
    "            img = cv.imread(filename)\n",
    "            img_gray = cv.cvtColor(img, cv.COLOR_BGR2GRAY)\n",
    "            list_des = sift.detectAndCompute(img_gray, None)[1]\n",
    "            if list_des is None:\n",
    "                num_keypoints.append(0)\n",
    "            else:\n",
    "                num_keypoints.append(len(list_des))\n",
    "                for des in list_des:\n",
    "                    self.training_data.append(des)\n",
    "\n",
    "        # cluster SIFT descriptors using K-means algorithm\n",
    "        kmeans = KMeans(self.num_words)\n",
    "        kmeans.fit(self.training_data)\n",
    "        self.words = kmeans.cluster_centers_\n",
    "\n",
    "        # create word histograms for training images\n",
    "        training_word_histograms = [] # list of word histograms of all training images\n",
    "        index = 0 \n",
    "        for i in range(0, len(self.img_filenames)):\n",
    "            #for each file, create a histogram\n",
    "            histogram = np.zeros(self.num_words, np.float32)\n",
    "            # if some keypoints exist\n",
    "            if num_keypoints[i]>0:\n",
    "                for j in range(0, num_keypoints[i]):\n",
    "                    histogram[kmeans.labels_[j+index]] += 1\n",
    "                index += num_keypoints[i]\n",
    "                histogram /= num_keypoints[i]\n",
    "                training_word_histograms.append(histogram)\n",
    "        return training_word_histograms\n",
    "\n",
    "    def create_word_histograms(self, img_filenames):\n",
    "        sift = cv.SIFT_create()\n",
    "        histograms = []\n",
    "        \n",
    "        for filename in img_filenames:\n",
    "            img = cv.imread(filename)\n",
    "            img_gray = cv.cvtColor(img, cv.COLOR_BGR2GRAY)\n",
    "            descriptors = sift.detectAndCompute(img_gray, None)[1]\n",
    "\n",
    "            histogram = np.zeros(self.num_words, np.float32)\n",
    "\n",
    "            if descriptors is not None:\n",
    "                for des in descriptors:\n",
    "                    # find the best matching word\n",
    "                    min_distance = 1111111\n",
    "                    matching_word_ID = -1 \n",
    "\n",
    "                    for i in range(0, self.num_words):\n",
    "                        distance = np.linalg.norm(des-self.words[i])\n",
    "                        if distance < min_distance:\n",
    "                            min_distance = distance\n",
    "                            matching_word_ID = i\n",
    "\n",
    "                    histogram[matching_word_ID] += 1\n",
    "\n",
    "                histogram /= len(descriptors) #normalise histogram to frequencies\n",
    "            histograms.append(histogram)\n",
    "        return histograms\n",
    "\n",
    "\n",
    "\n"
   ]
  },
  {
   "cell_type": "markdown",
   "metadata": {},
   "source": [
    "#### Load training data"
   ]
  },
  {
   "cell_type": "code",
   "execution_count": 1,
   "metadata": {},
   "outputs": [
    {
     "name": "stdout",
     "output_type": "stream",
     "text": [
      "['FoodImages/Train/Cakes/cake1.png', 'FoodImages/Train/Cakes/cake10.jpg', 'FoodImages/Train/Cakes/cake11.jpg', 'FoodImages/Train/Cakes/cake12.jpg', 'FoodImages/Train/Cakes/cake13.jpg', 'FoodImages/Train/Cakes/cake14.jpg', 'FoodImages/Train/Cakes/cake15.jpg', 'FoodImages/Train/Cakes/cake16.jpg', 'FoodImages/Train/Cakes/cake17.jpg', 'FoodImages/Train/Cakes/cake18.jpg', 'FoodImages/Train/Cakes/cake19.jpg', 'FoodImages/Train/Cakes/cake2.png', 'FoodImages/Train/Cakes/cake20.jpg', 'FoodImages/Train/Cakes/cake21.jpg', 'FoodImages/Train/Cakes/cake22.jpg', 'FoodImages/Train/Cakes/cake23.jpg', 'FoodImages/Train/Cakes/cake24.jpg', 'FoodImages/Train/Cakes/cake25.jpg', 'FoodImages/Train/Cakes/cake26.jpg', 'FoodImages/Train/Cakes/cake27.jpg', 'FoodImages/Train/Cakes/cake28.jpg', 'FoodImages/Train/Cakes/cake29.jpg', 'FoodImages/Train/Cakes/cake3.png', 'FoodImages/Train/Cakes/cake30.jpg', 'FoodImages/Train/Cakes/cake4.jpg', 'FoodImages/Train/Cakes/cake5.jpg', 'FoodImages/Train/Cakes/cake6.jpg', 'FoodImages/Train/Cakes/cake7.jpg', 'FoodImages/Train/Cakes/cake8.jpg', 'FoodImages/Train/Cakes/cake9.jpg', 'FoodImages/Train/Pasta/pasta1.jpg', 'FoodImages/Train/Pasta/pasta10.jpg', 'FoodImages/Train/Pasta/pasta11.jpg', 'FoodImages/Train/Pasta/pasta12.jpg', 'FoodImages/Train/Pasta/pasta13.jpg', 'FoodImages/Train/Pasta/pasta14.jpg', 'FoodImages/Train/Pasta/pasta15.jpg', 'FoodImages/Train/Pasta/pasta16.jpg', 'FoodImages/Train/Pasta/pasta17.jpg', 'FoodImages/Train/Pasta/pasta18.jpg', 'FoodImages/Train/Pasta/pasta19.jpg', 'FoodImages/Train/Pasta/pasta2.jpg', 'FoodImages/Train/Pasta/pasta20.jpg', 'FoodImages/Train/Pasta/pasta21.png', 'FoodImages/Train/Pasta/pasta22.png', 'FoodImages/Train/Pasta/pasta23.png', 'FoodImages/Train/Pasta/pasta24.png', 'FoodImages/Train/Pasta/pasta25.png', 'FoodImages/Train/Pasta/pasta26.png', 'FoodImages/Train/Pasta/pasta27.png', 'FoodImages/Train/Pasta/pasta28.png', 'FoodImages/Train/Pasta/pasta29.jpg', 'FoodImages/Train/Pasta/pasta3.jpg', 'FoodImages/Train/Pasta/pasta30.jpg', 'FoodImages/Train/Pasta/pasta4.jpg', 'FoodImages/Train/Pasta/pasta5.jpg', 'FoodImages/Train/Pasta/pasta6.jpg', 'FoodImages/Train/Pasta/pasta7.jpg', 'FoodImages/Train/Pasta/pasta8.jpg', 'FoodImages/Train/Pasta/pasta9.jpg', 'FoodImages/Train/Pizza/pizza1.png', 'FoodImages/Train/Pizza/pizza10.jpg', 'FoodImages/Train/Pizza/pizza11.jpg', 'FoodImages/Train/Pizza/pizza12.jpg', 'FoodImages/Train/Pizza/pizza13.jpg', 'FoodImages/Train/Pizza/pizza14.jpg', 'FoodImages/Train/Pizza/pizza15.jpg', 'FoodImages/Train/Pizza/pizza16.jpg', 'FoodImages/Train/Pizza/pizza17.jpg', 'FoodImages/Train/Pizza/pizza18.jpg', 'FoodImages/Train/Pizza/pizza19.jpg', 'FoodImages/Train/Pizza/pizza2.jpg', 'FoodImages/Train/Pizza/pizza20.jpg', 'FoodImages/Train/Pizza/pizza21.jpg', 'FoodImages/Train/Pizza/pizza22.jpg', 'FoodImages/Train/Pizza/pizza23.jpg', 'FoodImages/Train/Pizza/pizza24.jpg', 'FoodImages/Train/Pizza/pizza25.jpg', 'FoodImages/Train/Pizza/pizza26.jpg', 'FoodImages/Train/Pizza/pizza27.jpg', 'FoodImages/Train/Pizza/pizza28.jpg', 'FoodImages/Train/Pizza/pizza29.jpg', 'FoodImages/Train/Pizza/pizza3.jpg', 'FoodImages/Train/Pizza/pizza30.jpg', 'FoodImages/Train/Pizza/pizza4.jpg', 'FoodImages/Train/Pizza/pizza5.jpg', 'FoodImages/Train/Pizza/pizza6.jpg', 'FoodImages/Train/Pizza/pizza7.jpg', 'FoodImages/Train/Pizza/pizza8.jpg', 'FoodImages/Train/Pizza/pizza9.jpg']\n",
      "[0, 0, 0, 0, 0, 0, 0, 0, 0, 0, 0, 0, 0, 0, 0, 0, 0, 0, 0, 0, 0, 0, 0, 0, 0, 0, 0, 0, 0, 0, 1, 1, 1, 1, 1, 1, 1, 1, 1, 1, 1, 1, 1, 1, 1, 1, 1, 1, 1, 1, 1, 1, 1, 1, 1, 1, 1, 1, 1, 1, 2, 2, 2, 2, 2, 2, 2, 2, 2, 2, 2, 2, 2, 2, 2, 2, 2, 2, 2, 2, 2, 2, 2, 2, 2, 2, 2, 2, 2, 2]\n"
     ]
    }
   ],
   "source": [
    "\n",
    "import os\n",
    "\n",
    "foods = [\"Cakes\", \"Pasta\", \"Pizza\"]\n",
    "path = \"FoodImages/\"\n",
    "training_file_names = []\n",
    "training_food_labels = []\n",
    "for i in range(0, len(foods)):\n",
    "    sub_path = path+\"Train/\"+foods[i]+\"/\"\n",
    "    sub_file_names = [os.path.join(sub_path,f)  for f in os.listdir(sub_path)]\n",
    "    sub_food_labels = [i] * len(sub_file_names)\n",
    "    training_file_names += sub_file_names\n",
    "    training_food_labels += sub_food_labels\n",
    "\n",
    "print(training_file_names)\n",
    "print(training_food_labels)\n"
   ]
  },
  {
   "cell_type": "markdown",
   "metadata": {},
   "source": [
    "#### Create and learn dictionary"
   ]
  },
  {
   "cell_type": "code",
   "execution_count": 81,
   "metadata": {},
   "outputs": [],
   "source": [
    "num_words = 50\n",
    "dictionary_name = \"food\"\n",
    "dictionary = Dictionary(dictionary_name, training_file_names, num_words)\n",
    "training_word_histograms = dictionary.learn()"
   ]
  },
  {
   "cell_type": "markdown",
   "metadata": {},
   "source": [
    "#### Save dictionary"
   ]
  },
  {
   "cell_type": "code",
   "execution_count": 82,
   "metadata": {},
   "outputs": [],
   "source": [
    "import pickle\n",
    "with open(\"food_dictionary.dic\", \"wb\") as f: # \"wb\" is for binary write\n",
    "    pickle.dump(dictionary, f)"
   ]
  },
  {
   "cell_type": "markdown",
   "metadata": {},
   "source": [
    "#### Load dictionary"
   ]
  },
  {
   "cell_type": "code",
   "execution_count": 83,
   "metadata": {},
   "outputs": [],
   "source": [
    "import pickle \n",
    "with open(\"food_dictionary.dic\", \"rb\") as f: # \"rb\" is for binary read\n",
    "    dictionary = pickle.load(f)"
   ]
  },
  {
   "cell_type": "markdown",
   "metadata": {},
   "source": [
    "# 2. KNN"
   ]
  },
  {
   "cell_type": "markdown",
   "metadata": {},
   "source": [
    "#### Apply KNN on whole dataset and test it on a sample image"
   ]
  },
  {
   "cell_type": "code",
   "execution_count": 84,
   "metadata": {},
   "outputs": [
    {
     "name": "stderr",
     "output_type": "stream",
     "text": [
      "C:\\Users\\Nicolas\\AppData\\Roaming\\Python\\Python310\\site-packages\\sklearn\\neighbors\\_classification.py:237: FutureWarning: Unlike other reduction functions (e.g. `skew`, `kurtosis`), the default behavior of `mode` typically preserves the axis it acts along. In SciPy 1.11.0, this behavior will change: the default value of `keepdims` will become False, the `axis` over which the statistic is taken will be eliminated, and the value None will no longer be accepted. Set `keepdims` to True or False to avoid this warning.\n",
      "  mode, _ = stats.mode(_y[neigh_ind, k], axis=1)\n"
     ]
    }
   ],
   "source": [
    "from sklearn.neighbors import KNeighborsClassifier\n",
    "\n",
    "num_nearest_neighbours = 5 \n",
    "\n",
    "knn=KNeighborsClassifier(n_neighbors = num_nearest_neighbours)\n",
    "knn.fit(training_word_histograms, training_food_labels)\n",
    "\n",
    "test_file_names = [\"FoodImages/Test/Pasta/pasta35.jpg\"]\n",
    "word_histograms = dictionary.create_word_histograms(test_file_names)\n",
    "\n",
    "predicted_food_labels = knn.predict(word_histograms)\n",
    "print(\"Food label: \", predicted_food_labels)"
   ]
  },
  {
   "cell_type": "markdown",
   "metadata": {},
   "source": [
    "#### Apply and test KNN on the whole dataset"
   ]
  },
  {
   "cell_type": "code",
   "execution_count": 85,
   "metadata": {},
   "outputs": [
    {
     "name": "stdout",
     "output_type": "stream",
     "text": [
      "['FoodImages/Test/Cakes/cake31.jpg', 'FoodImages/Test/Cakes/cake32.jpg', 'FoodImages/Test/Cakes/cake33.jpg', 'FoodImages/Test/Cakes/cake34.jpg', 'FoodImages/Test/Cakes/cake35.jpg', 'FoodImages/Test/Cakes/cake36.jpg', 'FoodImages/Test/Cakes/cake37.jpg', 'FoodImages/Test/Cakes/cake38.jpg', 'FoodImages/Test/Cakes/cake39.jpg', 'FoodImages/Test/Cakes/cake40.jpg', 'FoodImages/Test/Cakes/cake41.jpg', 'FoodImages/Test/Cakes/cake42.jpg', 'FoodImages/Test/Cakes/cake43.jpg', 'FoodImages/Test/Cakes/cake44.jpg', 'FoodImages/Test/Cakes/cake45.jpg', 'FoodImages/Test/Cakes/cake46.jpg', 'FoodImages/Test/Cakes/cake47.jpg', 'FoodImages/Test/Cakes/cake48.jpg', 'FoodImages/Test/Cakes/cake49.jpg', 'FoodImages/Test/Cakes/cake50.jpg', 'FoodImages/Test/Cakes/cake51.jpg', 'FoodImages/Test/Cakes/cake52.jpg', 'FoodImages/Test/Cakes/cake53.jpg', 'FoodImages/Test/Cakes/cake54.jpg', 'FoodImages/Test/Cakes/cake55.jpg', 'FoodImages/Test/Cakes/cake56.jpg', 'FoodImages/Test/Cakes/cake57.jpg', 'FoodImages/Test/Cakes/cake58.jpg', 'FoodImages/Test/Cakes/cake59.jpg', 'FoodImages/Test/Cakes/cake60.jpg', 'FoodImages/Test/Pasta/pasta31.jpg', 'FoodImages/Test/Pasta/pasta32.jpg', 'FoodImages/Test/Pasta/pasta33.jpg', 'FoodImages/Test/Pasta/pasta34.jpg', 'FoodImages/Test/Pasta/pasta35.jpg', 'FoodImages/Test/Pasta/pasta36.jpg', 'FoodImages/Test/Pasta/pasta37.jpg', 'FoodImages/Test/Pasta/pasta38.jpg', 'FoodImages/Test/Pasta/pasta39.jpg', 'FoodImages/Test/Pasta/pasta40.jpg', 'FoodImages/Test/Pasta/pasta41.jpg', 'FoodImages/Test/Pasta/pasta42.jpg', 'FoodImages/Test/Pasta/pasta43.jpg', 'FoodImages/Test/Pasta/pasta44.jpg', 'FoodImages/Test/Pasta/pasta45.jpg', 'FoodImages/Test/Pasta/pasta46.jpg', 'FoodImages/Test/Pasta/pasta47.jpg', 'FoodImages/Test/Pasta/pasta48.jpg', 'FoodImages/Test/Pasta/pasta49.jpg', 'FoodImages/Test/Pasta/pasta50.jpg', 'FoodImages/Test/Pasta/pasta51.jpg', 'FoodImages/Test/Pasta/pasta52.jpg', 'FoodImages/Test/Pasta/pasta53.jpg', 'FoodImages/Test/Pasta/pasta54.jpg', 'FoodImages/Test/Pasta/pasta55.jpg', 'FoodImages/Test/Pasta/pasta56.jpg', 'FoodImages/Test/Pasta/pasta57.jpg', 'FoodImages/Test/Pasta/pasta58.jpg', 'FoodImages/Test/Pasta/pasta59.jpg', 'FoodImages/Test/Pasta/pasta60.jpg', 'FoodImages/Test/Pizza/pizza31.jpg', 'FoodImages/Test/Pizza/pizza32.jpg', 'FoodImages/Test/Pizza/pizza33.jpg', 'FoodImages/Test/Pizza/pizza34.jpg', 'FoodImages/Test/Pizza/pizza35.jpg', 'FoodImages/Test/Pizza/pizza36.jpg', 'FoodImages/Test/Pizza/pizza37.jpg', 'FoodImages/Test/Pizza/pizza38.jpg', 'FoodImages/Test/Pizza/pizza39.jpg', 'FoodImages/Test/Pizza/pizza40.jpg', 'FoodImages/Test/Pizza/pizza41.jpg', 'FoodImages/Test/Pizza/pizza42.jpg', 'FoodImages/Test/Pizza/pizza43.jpg', 'FoodImages/Test/Pizza/pizza44.jpg', 'FoodImages/Test/Pizza/pizza45.jpg', 'FoodImages/Test/Pizza/pizza46.jpg', 'FoodImages/Test/Pizza/pizza47.jpg', 'FoodImages/Test/Pizza/pizza48.jpg', 'FoodImages/Test/Pizza/pizza49.jpg', 'FoodImages/Test/Pizza/pizza50.jpg', 'FoodImages/Test/Pizza/pizza51.jpg', 'FoodImages/Test/Pizza/pizza52.jpg', 'FoodImages/Test/Pizza/pizza53.jpg', 'FoodImages/Test/Pizza/pizza54.jpg', 'FoodImages/Test/Pizza/pizza55.jpg', 'FoodImages/Test/Pizza/pizza56.jpg', 'FoodImages/Test/Pizza/pizza57.png', 'FoodImages/Test/Pizza/pizza58.png', 'FoodImages/Test/Pizza/pizza59.png', 'FoodImages/Test/Pizza/pizza60.jpg']\n",
      "[0, 0, 0, 0, 0, 0, 0, 0, 0, 0, 0, 0, 0, 0, 0, 0, 0, 0, 0, 0, 0, 0, 0, 0, 0, 0, 0, 0, 0, 0, 1, 1, 1, 1, 1, 1, 1, 1, 1, 1, 1, 1, 1, 1, 1, 1, 1, 1, 1, 1, 1, 1, 1, 1, 1, 1, 1, 1, 1, 1, 2, 2, 2, 2, 2, 2, 2, 2, 2, 2, 2, 2, 2, 2, 2, 2, 2, 2, 2, 2, 2, 2, 2, 2, 2, 2, 2, 2, 2, 2]\n"
     ]
    }
   ],
   "source": [
    "test_file_names, test_food_labels = [], []\n",
    "for i in range(0, len(foods)):\n",
    "    sub_path = path + \"Test/\" + foods[i] + \"/\"\n",
    "    sub_file_names = [os.path.join(sub_path, f) for f in os.listdir(sub_path)]\n",
    "    sub_food_labels = [i]*len(sub_file_names)\n",
    "    test_file_names += sub_file_names\n",
    "    test_food_labels += sub_food_labels\n",
    "\n",
    "print(test_file_names)\n",
    "print(test_food_labels)"
   ]
  },
  {
   "cell_type": "markdown",
   "metadata": {},
   "source": [
    "#### Test the knn classifiere on all test food images"
   ]
  },
  {
   "cell_type": "code",
   "execution_count": 86,
   "metadata": {},
   "outputs": [
    {
     "name": "stderr",
     "output_type": "stream",
     "text": [
      "C:\\Users\\Nicolas\\AppData\\Roaming\\Python\\Python310\\site-packages\\sklearn\\neighbors\\_classification.py:237: FutureWarning: Unlike other reduction functions (e.g. `skew`, `kurtosis`), the default behavior of `mode` typically preserves the axis it acts along. In SciPy 1.11.0, this behavior will change: the default value of `keepdims` will become False, the `axis` over which the statistic is taken will be eliminated, and the value None will no longer be accepted. Set `keepdims` to True or False to avoid this warning.\n",
      "  mode, _ = stats.mode(_y[neigh_ind, k], axis=1)\n"
     ]
    }
   ],
   "source": [
    "word_histograms = dictionary.create_word_histograms(test_file_names)\n",
    "predicted_food_labels = knn.predict(word_histograms)"
   ]
  },
  {
   "cell_type": "markdown",
   "metadata": {},
   "source": [
    "#### Evaluation: calculating recognition accuracy"
   ]
  },
  {
   "cell_type": "code",
   "execution_count": 87,
   "metadata": {},
   "outputs": [
    {
     "name": "stdout",
     "output_type": "stream",
     "text": [
      "0.7444444444444445\n"
     ]
    }
   ],
   "source": [
    "num_correct_predictions = np.sum(predicted_food_labels == test_food_labels)\n",
    "recognition_acc = num_correct_predictions/len(test_food_labels)\n",
    "print(recognition_acc)"
   ]
  },
  {
   "cell_type": "markdown",
   "metadata": {},
   "source": [
    "#### Evaluation: compute confusion matrix"
   ]
  },
  {
   "cell_type": "code",
   "execution_count": 88,
   "metadata": {},
   "outputs": [
    {
     "name": "stdout",
     "output_type": "stream",
     "text": [
      "[[19  5  6]\n",
      " [ 0 26  4]\n",
      " [ 1  7 22]]\n"
     ]
    }
   ],
   "source": [
    "from sklearn.metrics import classification_report, confusion_matrix\n",
    "cm = confusion_matrix(test_food_labels, predicted_food_labels)\n",
    "print(cm)"
   ]
  },
  {
   "cell_type": "markdown",
   "metadata": {},
   "source": [
    "#### Vary number of neighbours"
   ]
  },
  {
   "cell_type": "code",
   "execution_count": 89,
   "metadata": {},
   "outputs": [
    {
     "name": "stdout",
     "output_type": "stream",
     "text": [
      "Number of neighbours:  10     ; accuracy:  0.7\n",
      "Number of neighbours:  15     ; accuracy:  0.6666666666666666\n",
      "Number of neighbours:  20     ; accuracy:  0.6666666666666666\n",
      "Number of neighbours:  25     ; accuracy:  0.6666666666666666\n",
      "Number of neighbours:  30     ; accuracy:  0.6333333333333333\n"
     ]
    },
    {
     "name": "stderr",
     "output_type": "stream",
     "text": [
      "C:\\Users\\Nicolas\\AppData\\Roaming\\Python\\Python310\\site-packages\\sklearn\\neighbors\\_classification.py:237: FutureWarning: Unlike other reduction functions (e.g. `skew`, `kurtosis`), the default behavior of `mode` typically preserves the axis it acts along. In SciPy 1.11.0, this behavior will change: the default value of `keepdims` will become False, the `axis` over which the statistic is taken will be eliminated, and the value None will no longer be accepted. Set `keepdims` to True or False to avoid this warning.\n",
      "  mode, _ = stats.mode(_y[neigh_ind, k], axis=1)\n",
      "C:\\Users\\Nicolas\\AppData\\Roaming\\Python\\Python310\\site-packages\\sklearn\\neighbors\\_classification.py:237: FutureWarning: Unlike other reduction functions (e.g. `skew`, `kurtosis`), the default behavior of `mode` typically preserves the axis it acts along. In SciPy 1.11.0, this behavior will change: the default value of `keepdims` will become False, the `axis` over which the statistic is taken will be eliminated, and the value None will no longer be accepted. Set `keepdims` to True or False to avoid this warning.\n",
      "  mode, _ = stats.mode(_y[neigh_ind, k], axis=1)\n",
      "C:\\Users\\Nicolas\\AppData\\Roaming\\Python\\Python310\\site-packages\\sklearn\\neighbors\\_classification.py:237: FutureWarning: Unlike other reduction functions (e.g. `skew`, `kurtosis`), the default behavior of `mode` typically preserves the axis it acts along. In SciPy 1.11.0, this behavior will change: the default value of `keepdims` will become False, the `axis` over which the statistic is taken will be eliminated, and the value None will no longer be accepted. Set `keepdims` to True or False to avoid this warning.\n",
      "  mode, _ = stats.mode(_y[neigh_ind, k], axis=1)\n",
      "C:\\Users\\Nicolas\\AppData\\Roaming\\Python\\Python310\\site-packages\\sklearn\\neighbors\\_classification.py:237: FutureWarning: Unlike other reduction functions (e.g. `skew`, `kurtosis`), the default behavior of `mode` typically preserves the axis it acts along. In SciPy 1.11.0, this behavior will change: the default value of `keepdims` will become False, the `axis` over which the statistic is taken will be eliminated, and the value None will no longer be accepted. Set `keepdims` to True or False to avoid this warning.\n",
      "  mode, _ = stats.mode(_y[neigh_ind, k], axis=1)\n",
      "C:\\Users\\Nicolas\\AppData\\Roaming\\Python\\Python310\\site-packages\\sklearn\\neighbors\\_classification.py:237: FutureWarning: Unlike other reduction functions (e.g. `skew`, `kurtosis`), the default behavior of `mode` typically preserves the axis it acts along. In SciPy 1.11.0, this behavior will change: the default value of `keepdims` will become False, the `axis` over which the statistic is taken will be eliminated, and the value None will no longer be accepted. Set `keepdims` to True or False to avoid this warning.\n",
      "  mode, _ = stats.mode(_y[neigh_ind, k], axis=1)\n"
     ]
    }
   ],
   "source": [
    "num_nearest_neighbours = [10, 15, 20, 25, 30]\n",
    "\n",
    "for k in num_nearest_neighbours:\n",
    "    knn=KNeighborsClassifier(n_neighbors = k)\n",
    "    knn.fit(training_word_histograms, training_food_labels)\n",
    "    predicted_food_labels = knn.predict(word_histograms)\n",
    "    num_correct_predictions = np.sum(predicted_food_labels == test_food_labels)\n",
    "    recognition_acc = num_correct_predictions/len(test_food_labels)\n",
    "    print(\"Number of neighbours: \", k, \"    ; accuracy: \", recognition_acc)"
   ]
  },
  {
   "cell_type": "markdown",
   "metadata": {},
   "source": [
    "The best value for num_nearest_neighbours was 5 with an accuracy of 71.1%."
   ]
  },
  {
   "cell_type": "markdown",
   "metadata": {},
   "source": [
    "# 3. SVM"
   ]
  },
  {
   "cell_type": "code",
   "execution_count": null,
   "metadata": {},
   "outputs": [],
   "source": [
    "from sklearn import svm\n",
    "svm_classifier = svm.SVC(C=50, kernel = \"linear\")\n",
    "svm_classifier.fit(training_word_histograms, training_food_labels)"
   ]
  },
  {
   "cell_type": "markdown",
   "metadata": {},
   "source": [
    "#### Test with one test image"
   ]
  },
  {
   "cell_type": "code",
   "execution_count": 104,
   "metadata": {},
   "outputs": [
    {
     "name": "stdout",
     "output_type": "stream",
     "text": [
      "Food label:  [1]\n"
     ]
    }
   ],
   "source": [
    "test_file_name = [\"FoodImages/Test/Pasta/pasta35.jpg\"]\n",
    "word_histograms = dictionary.create_word_histograms(test_file_name)\n",
    "\n",
    "predicted_food_labels = svm_classifier.predict(word_histograms)\n",
    "print(\"Food label: \", predicted_food_labels)"
   ]
  },
  {
   "cell_type": "markdown",
   "metadata": {},
   "source": [
    "#### Test with all test images"
   ]
  },
  {
   "cell_type": "code",
   "execution_count": 105,
   "metadata": {},
   "outputs": [],
   "source": [
    "word_histograms = dictionary.create_word_histograms(test_file_names)\n",
    "predicted_food_labels = svm_classifier.predict(word_histograms)"
   ]
  },
  {
   "cell_type": "markdown",
   "metadata": {},
   "source": [
    "#### Evaluation: calculating recognition accuracy"
   ]
  },
  {
   "cell_type": "code",
   "execution_count": 106,
   "metadata": {},
   "outputs": [
    {
     "name": "stdout",
     "output_type": "stream",
     "text": [
      "0.8222222222222222\n"
     ]
    }
   ],
   "source": [
    "num_correct_predictions = np.sum(predicted_food_labels == test_food_labels)\n",
    "recognition_acc = num_correct_predictions/len(test_food_labels)\n",
    "print(recognition_acc)"
   ]
  },
  {
   "cell_type": "markdown",
   "metadata": {},
   "source": [
    "#### Evaluation: compute confusion matrix"
   ]
  },
  {
   "cell_type": "code",
   "execution_count": 107,
   "metadata": {},
   "outputs": [
    {
     "name": "stdout",
     "output_type": "stream",
     "text": [
      "[[26  2  2]\n",
      " [ 0 24  6]\n",
      " [ 1  5 24]]\n"
     ]
    }
   ],
   "source": [
    "from sklearn.metrics import classification_report, confusion_matrix\n",
    "cm = confusion_matrix(test_food_labels, predicted_food_labels)\n",
    "print(cm)"
   ]
  },
  {
   "cell_type": "markdown",
   "metadata": {},
   "source": [
    "#### Vary number of the parameter C"
   ]
  },
  {
   "cell_type": "code",
   "execution_count": 108,
   "metadata": {},
   "outputs": [
    {
     "name": "stdout",
     "output_type": "stream",
     "text": [
      "Parameter C:  10     ; accuracy:  0.8111111111111111\n",
      "Parameter C:  20     ; accuracy:  0.8222222222222222\n",
      "Parameter C:  30     ; accuracy:  0.8111111111111111\n",
      "Parameter C:  40     ; accuracy:  0.8222222222222222\n",
      "Parameter C:  50     ; accuracy:  0.8222222222222222\n"
     ]
    }
   ],
   "source": [
    "C_list = [10,20,30,40,50]\n",
    "\n",
    "for c in C_list:\n",
    "    svm_classifier = svm.SVC(C=c, kernel = \"linear\")\n",
    "    svm_classifier.fit(training_word_histograms, training_food_labels)\n",
    "    word_histograms = dictionary.create_word_histograms(test_file_names)\n",
    "    predicted_food_labels = svm_classifier.predict(word_histograms)\n",
    "    num_correct_predictions = np.sum(predicted_food_labels == test_food_labels)\n",
    "    recognition_acc = num_correct_predictions/len(test_food_labels)\n",
    "    print(\"Parameter C: \", c, \"    ; accuracy: \", recognition_acc)"
   ]
  },
  {
   "cell_type": "markdown",
   "metadata": {},
   "source": [
    "The highest accuracy of 82.2% can be achieved with C=20."
   ]
  },
  {
   "cell_type": "code",
   "execution_count": null,
   "metadata": {},
   "outputs": [],
   "source": [
    "from sklearn.ensemble import AdaBoostClassifier\n",
    "adb_classifier = AdaBoostClassifier(n_estimators=150, random_state=0)\n",
    "adb_classifier.fit(training_word_histograms, training_food_labels)"
   ]
  },
  {
   "cell_type": "markdown",
   "metadata": {},
   "source": [
    "#### Test algorithm with one test image"
   ]
  },
  {
   "cell_type": "code",
   "execution_count": 110,
   "metadata": {},
   "outputs": [
    {
     "name": "stdout",
     "output_type": "stream",
     "text": [
      "Food label:  [0 0 0 0 0 0 0 0 1 0 0 1 2 0 0 1 0 0 0 2 0 2 0 0 0 2 0 0 0 0 1 2 1 2 1 1 1\n",
      " 1 1 2 1 1 2 1 1 1 1 1 1 2 1 1 1 1 1 2 2 1 1 1 2 1 0 2 1 2 2 2 2 2 2 2 1 2\n",
      " 2 2 2 2 2 1 2 2 2 2 0 2 2 2 1 1]\n"
     ]
    }
   ],
   "source": [
    "test_file_name = [\"FoodImages/Test/Pasta/pasta35.jpg\"]\n",
    "word_histogram = dictionary.create_word_histograms(test_file_name)\n",
    "\n",
    "predicted_food_labels = adb_classifier.predict(word_histograms)\n",
    "print(\"Food label: \", predicted_food_labels)"
   ]
  },
  {
   "cell_type": "markdown",
   "metadata": {},
   "source": [
    "#### Test with all test images"
   ]
  },
  {
   "cell_type": "code",
   "execution_count": 111,
   "metadata": {},
   "outputs": [],
   "source": [
    "word_histograms = dictionary.create_word_histograms(test_file_names)\n",
    "predicted_food_labels = adb_classifier.predict(word_histograms)"
   ]
  },
  {
   "cell_type": "markdown",
   "metadata": {},
   "source": [
    "#### Evaluation: calculating recognition accuracy"
   ]
  },
  {
   "cell_type": "code",
   "execution_count": 112,
   "metadata": {},
   "outputs": [
    {
     "name": "stdout",
     "output_type": "stream",
     "text": [
      "0.7555555555555555\n"
     ]
    }
   ],
   "source": [
    "num_correct_predictions = np.sum(predicted_food_labels == test_food_labels)\n",
    "recognition_acc = num_correct_predictions/len(test_food_labels)\n",
    "print(recognition_acc)"
   ]
  },
  {
   "cell_type": "markdown",
   "metadata": {},
   "source": [
    "#### Evaluation: compute confusion matrix"
   ]
  },
  {
   "cell_type": "code",
   "execution_count": 113,
   "metadata": {},
   "outputs": [
    {
     "name": "stdout",
     "output_type": "stream",
     "text": [
      "[[23  3  4]\n",
      " [ 0 23  7]\n",
      " [ 2  6 22]]\n"
     ]
    }
   ],
   "source": [
    "from sklearn.metrics import classification_report, confusion_matrix\n",
    "cm = confusion_matrix(test_food_labels, predicted_food_labels)\n",
    "print(cm)"
   ]
  },
  {
   "cell_type": "markdown",
   "metadata": {},
   "source": [
    "#### Vary n_estimators"
   ]
  },
  {
   "cell_type": "code",
   "execution_count": 117,
   "metadata": {},
   "outputs": [
    {
     "name": "stdout",
     "output_type": "stream",
     "text": [
      "n_estimators:  50     ; accuracy:  0.8222222222222222\n",
      "n_estimators:  100     ; accuracy:  0.8222222222222222\n",
      "n_estimators:  150     ; accuracy:  0.8222222222222222\n",
      "n_estimators:  200     ; accuracy:  0.8222222222222222\n",
      "n_estimators:  250     ; accuracy:  0.8222222222222222\n"
     ]
    }
   ],
   "source": [
    "N_estimators = [50,100,150,200,250]\n",
    "\n",
    "for n in N_estimators:\n",
    "    adb_classifier = AdaBoostClassifier(n_estimators=n, random_state=0)\n",
    "    adb_classifier.fit(training_word_histograms, training_food_labels)\n",
    "    word_histograms = dictionary.create_word_histograms(test_file_names)\n",
    "    predicted_food_labels = svm_classifier.predict(word_histograms)\n",
    "    num_correct_predictions = np.sum(predicted_food_labels == test_food_labels)\n",
    "    recognition_acc = num_correct_predictions/len(test_food_labels)\n",
    "    print(\"n_estimators: \", n, \"    ; accuracy: \", recognition_acc)"
   ]
  },
  {
   "cell_type": "markdown",
   "metadata": {},
   "source": [
    "The same accuracy of 82.2% is achieved for all tested values of n_estimators."
   ]
  },
  {
   "attachments": {},
   "cell_type": "markdown",
   "metadata": {},
   "source": [
    "KNN is the algorithm with the worse accuracy. Adaboost and SVM have the same accuracy of the parameters are chosen in an optimal way. However, SVM is more sensitve to the choice of the parameter than AdaBoost."
   ]
  }
 ],
 "metadata": {
  "kernelspec": {
   "display_name": "Python 3.10.5 64-bit",
   "language": "python",
   "name": "python3"
  },
  "language_info": {
   "codemirror_mode": {
    "name": "ipython",
    "version": 3
   },
   "file_extension": ".py",
   "mimetype": "text/x-python",
   "name": "python",
   "nbconvert_exporter": "python",
   "pygments_lexer": "ipython3",
   "version": "3.10.7 (tags/v3.10.7:6cc6b13, Sep  5 2022, 14:08:36) [MSC v.1933 64 bit (AMD64)]"
  },
  "orig_nbformat": 4,
  "vscode": {
   "interpreter": {
    "hash": "26de051ba29f2982a8de78e945f0abaf191376122a1563185a90213a26c5da77"
   }
  }
 },
 "nbformat": 4,
 "nbformat_minor": 2
}
