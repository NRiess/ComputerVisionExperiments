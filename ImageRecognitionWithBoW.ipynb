{
 "cells": [
  {
   "attachments": {},
   "cell_type": "markdown",
   "metadata": {},
   "source": [
    "In this code, the K-means with a BoW model, KNN and SVM are used for classifying food images. The used dataset is FoodImages which is located in the folder data. Adjust the path, to load the data.\n",
    "In FoodImages, there are two folders: Train and Test containing training and test images respectively. Each Train/Test folder contains three sub-folders corresponding to three different food types including Cakes, Pasta, and Pizza. For each food category, there are equal numbers of images (30 images) used for training and testing. The Bag-of-Words (BoW) model is built for food image recognition based on the training images of the supplied food database. \n",
    "\n",
    "The Dictionary class below is developed to build BoW models using K-means algorithm. "
   ]
  },
  {
   "attachments": {},
   "cell_type": "markdown",
   "metadata": {},
   "source": [
    "# 1. Bag-of-Words (BoW) model"
   ]
  },
  {
   "cell_type": "code",
   "execution_count": 1,
   "metadata": {},
   "outputs": [],
   "source": [
    "import numpy as np\n",
    "import cv2 as cv\n",
    "from sklearn.cluster import KMeans\n",
    "import warnings\n",
    "warnings.filterwarnings(\"ignore\")\n",
    "\n",
    "class Dictionary(object):\n",
    "    def __init__(self, name, img_filenames, num_words):\n",
    "        self.name = name\n",
    "        self.img_filenames = img_filenames\n",
    "        self.num_words = num_words\n",
    "\n",
    "        self.training_data = []\n",
    "        self.words = []\n",
    "\n",
    "    def learn(self):\n",
    "        sift = cv.SIFT_create()\n",
    "\n",
    "        num_keypoints = []\n",
    "\n",
    "        # load training images and compute SIFT descriptors\n",
    "        for filename in self.img_filenames:\n",
    "            img = cv.imread(filename)\n",
    "            img_gray = cv.cvtColor(img, cv.COLOR_BGR2GRAY)\n",
    "            list_des = sift.detectAndCompute(img_gray, None)[1]\n",
    "            if list_des is None:\n",
    "                num_keypoints.append(0)\n",
    "            else:\n",
    "                num_keypoints.append(len(list_des))\n",
    "                for des in list_des:\n",
    "                    self.training_data.append(des)\n",
    "\n",
    "        # cluster SIFT descriptors using K-means algorithm\n",
    "        kmeans = KMeans(self.num_words)\n",
    "        kmeans.fit(self.training_data)\n",
    "        self.words = kmeans.cluster_centers_\n",
    "\n",
    "        # create word histograms for training images\n",
    "        training_word_histograms = [] # list of word histograms of all training images\n",
    "        index = 0 \n",
    "        for i in range(0, len(self.img_filenames)):\n",
    "            #for each file, create a histogram\n",
    "            histogram = np.zeros(self.num_words, np.float32)\n",
    "            # if some keypoints exist\n",
    "            if num_keypoints[i]>0:\n",
    "                for j in range(0, num_keypoints[i]):\n",
    "                    histogram[kmeans.labels_[j+index]] += 1\n",
    "                index += num_keypoints[i]\n",
    "                histogram /= num_keypoints[i]\n",
    "                training_word_histograms.append(histogram)\n",
    "        return training_word_histograms\n",
    "\n",
    "    def create_word_histograms(self, img_filenames):\n",
    "        sift = cv.SIFT_create()\n",
    "        histograms = []\n",
    "        \n",
    "        for filename in img_filenames:\n",
    "            img = cv.imread(filename)\n",
    "            img_gray = cv.cvtColor(img, cv.COLOR_BGR2GRAY)\n",
    "            descriptors = sift.detectAndCompute(img_gray, None)[1]\n",
    "\n",
    "            histogram = np.zeros(self.num_words, np.float32)\n",
    "\n",
    "            if descriptors is not None:\n",
    "                for des in descriptors:\n",
    "                    # find the best matching word\n",
    "                    min_distance = 1111111\n",
    "                    matching_word_ID = -1 \n",
    "\n",
    "                    for i in range(0, self.num_words):\n",
    "                        distance = np.linalg.norm(des-self.words[i])\n",
    "                        if distance < min_distance:\n",
    "                            min_distance = distance\n",
    "                            matching_word_ID = i\n",
    "\n",
    "                    histogram[matching_word_ID] += 1\n",
    "\n",
    "                histogram /= len(descriptors) #normalise histogram to frequencies\n",
    "            histograms.append(histogram)\n",
    "        return histograms\n",
    "\n"
   ]
  },
  {
   "cell_type": "markdown",
   "metadata": {},
   "source": [
    "#### Load training data"
   ]
  },
  {
   "cell_type": "code",
   "execution_count": 2,
   "metadata": {},
   "outputs": [
    {
     "name": "stdout",
     "output_type": "stream",
     "text": [
      "['FoodImages/Train/Cakes/cake1.png', 'FoodImages/Train/Cakes/cake10.jpg', 'FoodImages/Train/Cakes/cake11.jpg', 'FoodImages/Train/Cakes/cake12.jpg', 'FoodImages/Train/Cakes/cake13.jpg', 'FoodImages/Train/Cakes/cake14.jpg', 'FoodImages/Train/Cakes/cake15.jpg', 'FoodImages/Train/Cakes/cake16.jpg', 'FoodImages/Train/Cakes/cake17.jpg', 'FoodImages/Train/Cakes/cake18.jpg', 'FoodImages/Train/Cakes/cake19.jpg', 'FoodImages/Train/Cakes/cake2.png', 'FoodImages/Train/Cakes/cake20.jpg', 'FoodImages/Train/Cakes/cake21.jpg', 'FoodImages/Train/Cakes/cake22.jpg', 'FoodImages/Train/Cakes/cake23.jpg', 'FoodImages/Train/Cakes/cake24.jpg', 'FoodImages/Train/Cakes/cake25.jpg', 'FoodImages/Train/Cakes/cake26.jpg', 'FoodImages/Train/Cakes/cake27.jpg', 'FoodImages/Train/Cakes/cake28.jpg', 'FoodImages/Train/Cakes/cake29.jpg', 'FoodImages/Train/Cakes/cake3.png', 'FoodImages/Train/Cakes/cake30.jpg', 'FoodImages/Train/Cakes/cake4.jpg', 'FoodImages/Train/Cakes/cake5.jpg', 'FoodImages/Train/Cakes/cake6.jpg', 'FoodImages/Train/Cakes/cake7.jpg', 'FoodImages/Train/Cakes/cake8.jpg', 'FoodImages/Train/Cakes/cake9.jpg', 'FoodImages/Train/Pasta/pasta1.jpg', 'FoodImages/Train/Pasta/pasta10.jpg', 'FoodImages/Train/Pasta/pasta11.jpg', 'FoodImages/Train/Pasta/pasta12.jpg', 'FoodImages/Train/Pasta/pasta13.jpg', 'FoodImages/Train/Pasta/pasta14.jpg', 'FoodImages/Train/Pasta/pasta15.jpg', 'FoodImages/Train/Pasta/pasta16.jpg', 'FoodImages/Train/Pasta/pasta17.jpg', 'FoodImages/Train/Pasta/pasta18.jpg', 'FoodImages/Train/Pasta/pasta19.jpg', 'FoodImages/Train/Pasta/pasta2.jpg', 'FoodImages/Train/Pasta/pasta20.jpg', 'FoodImages/Train/Pasta/pasta21.png', 'FoodImages/Train/Pasta/pasta22.png', 'FoodImages/Train/Pasta/pasta23.png', 'FoodImages/Train/Pasta/pasta24.png', 'FoodImages/Train/Pasta/pasta25.png', 'FoodImages/Train/Pasta/pasta26.png', 'FoodImages/Train/Pasta/pasta27.png', 'FoodImages/Train/Pasta/pasta28.png', 'FoodImages/Train/Pasta/pasta29.jpg', 'FoodImages/Train/Pasta/pasta3.jpg', 'FoodImages/Train/Pasta/pasta30.jpg', 'FoodImages/Train/Pasta/pasta4.jpg', 'FoodImages/Train/Pasta/pasta5.jpg', 'FoodImages/Train/Pasta/pasta6.jpg', 'FoodImages/Train/Pasta/pasta7.jpg', 'FoodImages/Train/Pasta/pasta8.jpg', 'FoodImages/Train/Pasta/pasta9.jpg', 'FoodImages/Train/Pizza/pizza1.png', 'FoodImages/Train/Pizza/pizza10.jpg', 'FoodImages/Train/Pizza/pizza11.jpg', 'FoodImages/Train/Pizza/pizza12.jpg', 'FoodImages/Train/Pizza/pizza13.jpg', 'FoodImages/Train/Pizza/pizza14.jpg', 'FoodImages/Train/Pizza/pizza15.jpg', 'FoodImages/Train/Pizza/pizza16.jpg', 'FoodImages/Train/Pizza/pizza17.jpg', 'FoodImages/Train/Pizza/pizza18.jpg', 'FoodImages/Train/Pizza/pizza19.jpg', 'FoodImages/Train/Pizza/pizza2.jpg', 'FoodImages/Train/Pizza/pizza20.jpg', 'FoodImages/Train/Pizza/pizza21.jpg', 'FoodImages/Train/Pizza/pizza22.jpg', 'FoodImages/Train/Pizza/pizza23.jpg', 'FoodImages/Train/Pizza/pizza24.jpg', 'FoodImages/Train/Pizza/pizza25.jpg', 'FoodImages/Train/Pizza/pizza26.jpg', 'FoodImages/Train/Pizza/pizza27.jpg', 'FoodImages/Train/Pizza/pizza28.jpg', 'FoodImages/Train/Pizza/pizza29.jpg', 'FoodImages/Train/Pizza/pizza3.jpg', 'FoodImages/Train/Pizza/pizza30.jpg', 'FoodImages/Train/Pizza/pizza4.jpg', 'FoodImages/Train/Pizza/pizza5.jpg', 'FoodImages/Train/Pizza/pizza6.jpg', 'FoodImages/Train/Pizza/pizza7.jpg', 'FoodImages/Train/Pizza/pizza8.jpg', 'FoodImages/Train/Pizza/pizza9.jpg']\n",
      "[0, 0, 0, 0, 0, 0, 0, 0, 0, 0, 0, 0, 0, 0, 0, 0, 0, 0, 0, 0, 0, 0, 0, 0, 0, 0, 0, 0, 0, 0, 1, 1, 1, 1, 1, 1, 1, 1, 1, 1, 1, 1, 1, 1, 1, 1, 1, 1, 1, 1, 1, 1, 1, 1, 1, 1, 1, 1, 1, 1, 2, 2, 2, 2, 2, 2, 2, 2, 2, 2, 2, 2, 2, 2, 2, 2, 2, 2, 2, 2, 2, 2, 2, 2, 2, 2, 2, 2, 2, 2]\n"
     ]
    }
   ],
   "source": [
    "\n",
    "import os\n",
    "\n",
    "foods = [\"Cakes\", \"Pasta\", \"Pizza\"]\n",
    "path = \"FoodImages/\"\n",
    "training_file_names = []\n",
    "training_food_labels = []\n",
    "for i in range(0, len(foods)):\n",
    "    sub_path = path+\"Train/\"+foods[i]+\"/\"\n",
    "    sub_file_names = [os.path.join(sub_path,f)  for f in os.listdir(sub_path)]\n",
    "    sub_food_labels = [i] * len(sub_file_names)\n",
    "    training_file_names += sub_file_names\n",
    "    training_food_labels += sub_food_labels\n",
    "\n",
    "print(training_file_names)\n",
    "print(training_food_labels)\n"
   ]
  },
  {
   "cell_type": "markdown",
   "metadata": {},
   "source": [
    "#### Create and learn dictionary"
   ]
  },
  {
   "cell_type": "code",
   "execution_count": 3,
   "metadata": {},
   "outputs": [],
   "source": [
    "num_words = 50\n",
    "dictionary_name = \"food\"\n",
    "dictionary = Dictionary(dictionary_name, training_file_names, num_words)\n",
    "training_word_histograms = dictionary.learn()"
   ]
  },
  {
   "cell_type": "markdown",
   "metadata": {},
   "source": [
    "#### Save dictionary"
   ]
  },
  {
   "cell_type": "code",
   "execution_count": 4,
   "metadata": {},
   "outputs": [],
   "source": [
    "import pickle\n",
    "with open(\"food_dictionary.dic\", \"wb\") as f: # \"wb\" is for binary write\n",
    "    pickle.dump(dictionary, f)"
   ]
  },
  {
   "cell_type": "markdown",
   "metadata": {},
   "source": [
    "#### Load dictionary"
   ]
  },
  {
   "cell_type": "code",
   "execution_count": 5,
   "metadata": {},
   "outputs": [],
   "source": [
    "import pickle \n",
    "with open(\"food_dictionary.dic\", \"rb\") as f: # \"rb\" is for binary read\n",
    "    dictionary = pickle.load(f)"
   ]
  },
  {
   "cell_type": "markdown",
   "metadata": {},
   "source": [
    "# 2. KNN"
   ]
  },
  {
   "cell_type": "markdown",
   "metadata": {},
   "source": [
    "#### Apply KNN on whole dataset and test it on a sample image"
   ]
  },
  {
   "cell_type": "code",
   "execution_count": 6,
   "metadata": {},
   "outputs": [
    {
     "name": "stdout",
     "output_type": "stream",
     "text": [
      "Food label:  [1]\n"
     ]
    }
   ],
   "source": [
    "from sklearn.neighbors import KNeighborsClassifier\n",
    "\n",
    "num_nearest_neighbours = 5 \n",
    "\n",
    "knn=KNeighborsClassifier(n_neighbors = num_nearest_neighbours)\n",
    "knn.fit(training_word_histograms, training_food_labels)\n",
    "\n",
    "test_file_names = [\"FoodImages/Test/Pasta/pasta35.jpg\"]\n",
    "word_histograms = dictionary.create_word_histograms(test_file_names)\n",
    "\n",
    "predicted_food_labels = knn.predict(word_histograms)\n",
    "print(\"Food label: \", predicted_food_labels)"
   ]
  },
  {
   "cell_type": "markdown",
   "metadata": {},
   "source": [
    "#### Apply and test KNN on the whole dataset"
   ]
  },
  {
   "cell_type": "code",
   "execution_count": 7,
   "metadata": {},
   "outputs": [
    {
     "name": "stdout",
     "output_type": "stream",
     "text": [
      "['FoodImages/Test/Cakes/cake31.jpg', 'FoodImages/Test/Cakes/cake32.jpg', 'FoodImages/Test/Cakes/cake33.jpg', 'FoodImages/Test/Cakes/cake34.jpg', 'FoodImages/Test/Cakes/cake35.jpg', 'FoodImages/Test/Cakes/cake36.jpg', 'FoodImages/Test/Cakes/cake37.jpg', 'FoodImages/Test/Cakes/cake38.jpg', 'FoodImages/Test/Cakes/cake39.jpg', 'FoodImages/Test/Cakes/cake40.jpg', 'FoodImages/Test/Cakes/cake41.jpg', 'FoodImages/Test/Cakes/cake42.jpg', 'FoodImages/Test/Cakes/cake43.jpg', 'FoodImages/Test/Cakes/cake44.jpg', 'FoodImages/Test/Cakes/cake45.jpg', 'FoodImages/Test/Cakes/cake46.jpg', 'FoodImages/Test/Cakes/cake47.jpg', 'FoodImages/Test/Cakes/cake48.jpg', 'FoodImages/Test/Cakes/cake49.jpg', 'FoodImages/Test/Cakes/cake50.jpg', 'FoodImages/Test/Cakes/cake51.jpg', 'FoodImages/Test/Cakes/cake52.jpg', 'FoodImages/Test/Cakes/cake53.jpg', 'FoodImages/Test/Cakes/cake54.jpg', 'FoodImages/Test/Cakes/cake55.jpg', 'FoodImages/Test/Cakes/cake56.jpg', 'FoodImages/Test/Cakes/cake57.jpg', 'FoodImages/Test/Cakes/cake58.jpg', 'FoodImages/Test/Cakes/cake59.jpg', 'FoodImages/Test/Cakes/cake60.jpg', 'FoodImages/Test/Pasta/pasta31.jpg', 'FoodImages/Test/Pasta/pasta32.jpg', 'FoodImages/Test/Pasta/pasta33.jpg', 'FoodImages/Test/Pasta/pasta34.jpg', 'FoodImages/Test/Pasta/pasta35.jpg', 'FoodImages/Test/Pasta/pasta36.jpg', 'FoodImages/Test/Pasta/pasta37.jpg', 'FoodImages/Test/Pasta/pasta38.jpg', 'FoodImages/Test/Pasta/pasta39.jpg', 'FoodImages/Test/Pasta/pasta40.jpg', 'FoodImages/Test/Pasta/pasta41.jpg', 'FoodImages/Test/Pasta/pasta42.jpg', 'FoodImages/Test/Pasta/pasta43.jpg', 'FoodImages/Test/Pasta/pasta44.jpg', 'FoodImages/Test/Pasta/pasta45.jpg', 'FoodImages/Test/Pasta/pasta46.jpg', 'FoodImages/Test/Pasta/pasta47.jpg', 'FoodImages/Test/Pasta/pasta48.jpg', 'FoodImages/Test/Pasta/pasta49.jpg', 'FoodImages/Test/Pasta/pasta50.jpg', 'FoodImages/Test/Pasta/pasta51.jpg', 'FoodImages/Test/Pasta/pasta52.jpg', 'FoodImages/Test/Pasta/pasta53.jpg', 'FoodImages/Test/Pasta/pasta54.jpg', 'FoodImages/Test/Pasta/pasta55.jpg', 'FoodImages/Test/Pasta/pasta56.jpg', 'FoodImages/Test/Pasta/pasta57.jpg', 'FoodImages/Test/Pasta/pasta58.jpg', 'FoodImages/Test/Pasta/pasta59.jpg', 'FoodImages/Test/Pasta/pasta60.jpg', 'FoodImages/Test/Pizza/pizza31.jpg', 'FoodImages/Test/Pizza/pizza32.jpg', 'FoodImages/Test/Pizza/pizza33.jpg', 'FoodImages/Test/Pizza/pizza34.jpg', 'FoodImages/Test/Pizza/pizza35.jpg', 'FoodImages/Test/Pizza/pizza36.jpg', 'FoodImages/Test/Pizza/pizza37.jpg', 'FoodImages/Test/Pizza/pizza38.jpg', 'FoodImages/Test/Pizza/pizza39.jpg', 'FoodImages/Test/Pizza/pizza40.jpg', 'FoodImages/Test/Pizza/pizza41.jpg', 'FoodImages/Test/Pizza/pizza42.jpg', 'FoodImages/Test/Pizza/pizza43.jpg', 'FoodImages/Test/Pizza/pizza44.jpg', 'FoodImages/Test/Pizza/pizza45.jpg', 'FoodImages/Test/Pizza/pizza46.jpg', 'FoodImages/Test/Pizza/pizza47.jpg', 'FoodImages/Test/Pizza/pizza48.jpg', 'FoodImages/Test/Pizza/pizza49.jpg', 'FoodImages/Test/Pizza/pizza50.jpg', 'FoodImages/Test/Pizza/pizza51.jpg', 'FoodImages/Test/Pizza/pizza52.jpg', 'FoodImages/Test/Pizza/pizza53.jpg', 'FoodImages/Test/Pizza/pizza54.jpg', 'FoodImages/Test/Pizza/pizza55.jpg', 'FoodImages/Test/Pizza/pizza56.jpg', 'FoodImages/Test/Pizza/pizza57.png', 'FoodImages/Test/Pizza/pizza58.png', 'FoodImages/Test/Pizza/pizza59.png', 'FoodImages/Test/Pizza/pizza60.jpg']\n",
      "[0, 0, 0, 0, 0, 0, 0, 0, 0, 0, 0, 0, 0, 0, 0, 0, 0, 0, 0, 0, 0, 0, 0, 0, 0, 0, 0, 0, 0, 0, 1, 1, 1, 1, 1, 1, 1, 1, 1, 1, 1, 1, 1, 1, 1, 1, 1, 1, 1, 1, 1, 1, 1, 1, 1, 1, 1, 1, 1, 1, 2, 2, 2, 2, 2, 2, 2, 2, 2, 2, 2, 2, 2, 2, 2, 2, 2, 2, 2, 2, 2, 2, 2, 2, 2, 2, 2, 2, 2, 2]\n"
     ]
    }
   ],
   "source": [
    "test_file_names, test_food_labels = [], []\n",
    "for i in range(0, len(foods)):\n",
    "    sub_path = path + \"Test/\" + foods[i] + \"/\"\n",
    "    sub_file_names = [os.path.join(sub_path, f) for f in os.listdir(sub_path)]\n",
    "    sub_food_labels = [i]*len(sub_file_names)\n",
    "    test_file_names += sub_file_names\n",
    "    test_food_labels += sub_food_labels\n",
    "\n",
    "print(test_file_names)\n",
    "print(test_food_labels)"
   ]
  },
  {
   "cell_type": "markdown",
   "metadata": {},
   "source": [
    "#### Test the knn classifiere on all test food images"
   ]
  },
  {
   "cell_type": "code",
   "execution_count": 8,
   "metadata": {},
   "outputs": [],
   "source": [
    "word_histograms = dictionary.create_word_histograms(test_file_names)\n",
    "predicted_food_labels = knn.predict(word_histograms)"
   ]
  },
  {
   "cell_type": "markdown",
   "metadata": {},
   "source": [
    "#### Evaluation: calculating recognition accuracy"
   ]
  },
  {
   "cell_type": "code",
   "execution_count": 9,
   "metadata": {},
   "outputs": [
    {
     "name": "stdout",
     "output_type": "stream",
     "text": [
      "0.7222222222222222\n"
     ]
    }
   ],
   "source": [
    "num_correct_predictions = np.sum(predicted_food_labels == test_food_labels)\n",
    "recognition_acc = num_correct_predictions/len(test_food_labels)\n",
    "print(recognition_acc)"
   ]
  },
  {
   "cell_type": "markdown",
   "metadata": {},
   "source": [
    "#### Evaluation: compute confusion matrix"
   ]
  },
  {
   "cell_type": "code",
   "execution_count": 10,
   "metadata": {},
   "outputs": [
    {
     "name": "stdout",
     "output_type": "stream",
     "text": [
      "[[18  5  7]\n",
      " [ 0 25  5]\n",
      " [ 1  7 22]]\n"
     ]
    }
   ],
   "source": [
    "from sklearn.metrics import classification_report, confusion_matrix\n",
    "cm = confusion_matrix(test_food_labels, predicted_food_labels)\n",
    "print(cm)"
   ]
  },
  {
   "cell_type": "markdown",
   "metadata": {},
   "source": [
    "#### Vary number of neighbours"
   ]
  },
  {
   "cell_type": "code",
   "execution_count": 11,
   "metadata": {},
   "outputs": [
    {
     "name": "stdout",
     "output_type": "stream",
     "text": [
      "Number of neighbours:  10     ; accuracy:  0.7111111111111111\n",
      "Number of neighbours:  15     ; accuracy:  0.6888888888888889\n",
      "Number of neighbours:  20     ; accuracy:  0.6888888888888889\n",
      "Number of neighbours:  25     ; accuracy:  0.6222222222222222\n",
      "Number of neighbours:  30     ; accuracy:  0.6333333333333333\n"
     ]
    }
   ],
   "source": [
    "num_nearest_neighbours = [10, 15, 20, 25, 30]\n",
    "\n",
    "for k in num_nearest_neighbours:\n",
    "    knn=KNeighborsClassifier(n_neighbors = k)\n",
    "    knn.fit(training_word_histograms, training_food_labels)\n",
    "    predicted_food_labels = knn.predict(word_histograms)\n",
    "    num_correct_predictions = np.sum(predicted_food_labels == test_food_labels)\n",
    "    recognition_acc = num_correct_predictions/len(test_food_labels)\n",
    "    print(\"Number of neighbours: \", k, \"    ; accuracy: \", recognition_acc)"
   ]
  },
  {
   "cell_type": "markdown",
   "metadata": {},
   "source": [
    "The best value for num_nearest_neighbours was 5 with an accuracy of 71.1%."
   ]
  },
  {
   "cell_type": "markdown",
   "metadata": {},
   "source": [
    "# 3. SVM"
   ]
  },
  {
   "cell_type": "code",
   "execution_count": 12,
   "metadata": {},
   "outputs": [
    {
     "data": {
      "text/html": [
       "<style>#sk-container-id-1 {color: black;background-color: white;}#sk-container-id-1 pre{padding: 0;}#sk-container-id-1 div.sk-toggleable {background-color: white;}#sk-container-id-1 label.sk-toggleable__label {cursor: pointer;display: block;width: 100%;margin-bottom: 0;padding: 0.3em;box-sizing: border-box;text-align: center;}#sk-container-id-1 label.sk-toggleable__label-arrow:before {content: \"▸\";float: left;margin-right: 0.25em;color: #696969;}#sk-container-id-1 label.sk-toggleable__label-arrow:hover:before {color: black;}#sk-container-id-1 div.sk-estimator:hover label.sk-toggleable__label-arrow:before {color: black;}#sk-container-id-1 div.sk-toggleable__content {max-height: 0;max-width: 0;overflow: hidden;text-align: left;background-color: #f0f8ff;}#sk-container-id-1 div.sk-toggleable__content pre {margin: 0.2em;color: black;border-radius: 0.25em;background-color: #f0f8ff;}#sk-container-id-1 input.sk-toggleable__control:checked~div.sk-toggleable__content {max-height: 200px;max-width: 100%;overflow: auto;}#sk-container-id-1 input.sk-toggleable__control:checked~label.sk-toggleable__label-arrow:before {content: \"▾\";}#sk-container-id-1 div.sk-estimator input.sk-toggleable__control:checked~label.sk-toggleable__label {background-color: #d4ebff;}#sk-container-id-1 div.sk-label input.sk-toggleable__control:checked~label.sk-toggleable__label {background-color: #d4ebff;}#sk-container-id-1 input.sk-hidden--visually {border: 0;clip: rect(1px 1px 1px 1px);clip: rect(1px, 1px, 1px, 1px);height: 1px;margin: -1px;overflow: hidden;padding: 0;position: absolute;width: 1px;}#sk-container-id-1 div.sk-estimator {font-family: monospace;background-color: #f0f8ff;border: 1px dotted black;border-radius: 0.25em;box-sizing: border-box;margin-bottom: 0.5em;}#sk-container-id-1 div.sk-estimator:hover {background-color: #d4ebff;}#sk-container-id-1 div.sk-parallel-item::after {content: \"\";width: 100%;border-bottom: 1px solid gray;flex-grow: 1;}#sk-container-id-1 div.sk-label:hover label.sk-toggleable__label {background-color: #d4ebff;}#sk-container-id-1 div.sk-serial::before {content: \"\";position: absolute;border-left: 1px solid gray;box-sizing: border-box;top: 0;bottom: 0;left: 50%;z-index: 0;}#sk-container-id-1 div.sk-serial {display: flex;flex-direction: column;align-items: center;background-color: white;padding-right: 0.2em;padding-left: 0.2em;position: relative;}#sk-container-id-1 div.sk-item {position: relative;z-index: 1;}#sk-container-id-1 div.sk-parallel {display: flex;align-items: stretch;justify-content: center;background-color: white;position: relative;}#sk-container-id-1 div.sk-item::before, #sk-container-id-1 div.sk-parallel-item::before {content: \"\";position: absolute;border-left: 1px solid gray;box-sizing: border-box;top: 0;bottom: 0;left: 50%;z-index: -1;}#sk-container-id-1 div.sk-parallel-item {display: flex;flex-direction: column;z-index: 1;position: relative;background-color: white;}#sk-container-id-1 div.sk-parallel-item:first-child::after {align-self: flex-end;width: 50%;}#sk-container-id-1 div.sk-parallel-item:last-child::after {align-self: flex-start;width: 50%;}#sk-container-id-1 div.sk-parallel-item:only-child::after {width: 0;}#sk-container-id-1 div.sk-dashed-wrapped {border: 1px dashed gray;margin: 0 0.4em 0.5em 0.4em;box-sizing: border-box;padding-bottom: 0.4em;background-color: white;}#sk-container-id-1 div.sk-label label {font-family: monospace;font-weight: bold;display: inline-block;line-height: 1.2em;}#sk-container-id-1 div.sk-label-container {text-align: center;}#sk-container-id-1 div.sk-container {/* jupyter's `normalize.less` sets `[hidden] { display: none; }` but bootstrap.min.css set `[hidden] { display: none !important; }` so we also need the `!important` here to be able to override the default hidden behavior on the sphinx rendered scikit-learn.org. See: https://github.com/scikit-learn/scikit-learn/issues/21755 */display: inline-block !important;position: relative;}#sk-container-id-1 div.sk-text-repr-fallback {display: none;}</style><div id=\"sk-container-id-1\" class=\"sk-top-container\"><div class=\"sk-text-repr-fallback\"><pre>SVC(C=50, kernel=&#x27;linear&#x27;)</pre><b>In a Jupyter environment, please rerun this cell to show the HTML representation or trust the notebook. <br />On GitHub, the HTML representation is unable to render, please try loading this page with nbviewer.org.</b></div><div class=\"sk-container\" hidden><div class=\"sk-item\"><div class=\"sk-estimator sk-toggleable\"><input class=\"sk-toggleable__control sk-hidden--visually\" id=\"sk-estimator-id-1\" type=\"checkbox\" checked><label for=\"sk-estimator-id-1\" class=\"sk-toggleable__label sk-toggleable__label-arrow\">SVC</label><div class=\"sk-toggleable__content\"><pre>SVC(C=50, kernel=&#x27;linear&#x27;)</pre></div></div></div></div></div>"
      ],
      "text/plain": [
       "SVC(C=50, kernel='linear')"
      ]
     },
     "execution_count": 12,
     "metadata": {},
     "output_type": "execute_result"
    }
   ],
   "source": [
    "from sklearn import svm\n",
    "svm_classifier = svm.SVC(C=50, kernel = \"linear\")\n",
    "svm_classifier.fit(training_word_histograms, training_food_labels)"
   ]
  },
  {
   "cell_type": "markdown",
   "metadata": {},
   "source": [
    "#### Test with one test image"
   ]
  },
  {
   "cell_type": "code",
   "execution_count": 13,
   "metadata": {},
   "outputs": [
    {
     "name": "stdout",
     "output_type": "stream",
     "text": [
      "Food label:  [1]\n"
     ]
    }
   ],
   "source": [
    "test_file_name = [\"FoodImages/Test/Pasta/pasta35.jpg\"]\n",
    "word_histograms = dictionary.create_word_histograms(test_file_name)\n",
    "\n",
    "predicted_food_labels = svm_classifier.predict(word_histograms)\n",
    "print(\"Food label: \", predicted_food_labels)"
   ]
  },
  {
   "cell_type": "markdown",
   "metadata": {},
   "source": [
    "#### Test with all test images"
   ]
  },
  {
   "cell_type": "code",
   "execution_count": 14,
   "metadata": {},
   "outputs": [],
   "source": [
    "word_histograms = dictionary.create_word_histograms(test_file_names)\n",
    "predicted_food_labels = svm_classifier.predict(word_histograms)"
   ]
  },
  {
   "cell_type": "markdown",
   "metadata": {},
   "source": [
    "#### Evaluation: calculating recognition accuracy"
   ]
  },
  {
   "cell_type": "code",
   "execution_count": 15,
   "metadata": {},
   "outputs": [
    {
     "name": "stdout",
     "output_type": "stream",
     "text": [
      "0.8444444444444444\n"
     ]
    }
   ],
   "source": [
    "num_correct_predictions = np.sum(predicted_food_labels == test_food_labels)\n",
    "recognition_acc = num_correct_predictions/len(test_food_labels)\n",
    "print(recognition_acc)"
   ]
  },
  {
   "cell_type": "markdown",
   "metadata": {},
   "source": [
    "#### Evaluation: compute confusion matrix"
   ]
  },
  {
   "cell_type": "code",
   "execution_count": 16,
   "metadata": {},
   "outputs": [
    {
     "name": "stdout",
     "output_type": "stream",
     "text": [
      "[[26  2  2]\n",
      " [ 0 25  5]\n",
      " [ 1  4 25]]\n"
     ]
    }
   ],
   "source": [
    "from sklearn.metrics import classification_report, confusion_matrix\n",
    "cm = confusion_matrix(test_food_labels, predicted_food_labels)\n",
    "print(cm)"
   ]
  },
  {
   "cell_type": "markdown",
   "metadata": {},
   "source": [
    "#### Vary number of the parameter C"
   ]
  },
  {
   "cell_type": "code",
   "execution_count": 17,
   "metadata": {},
   "outputs": [
    {
     "name": "stdout",
     "output_type": "stream",
     "text": [
      "Parameter C:  10     ; accuracy:  0.8\n",
      "Parameter C:  20     ; accuracy:  0.8111111111111111\n",
      "Parameter C:  30     ; accuracy:  0.8222222222222222\n",
      "Parameter C:  40     ; accuracy:  0.8333333333333334\n",
      "Parameter C:  50     ; accuracy:  0.8444444444444444\n"
     ]
    }
   ],
   "source": [
    "C_list = [10,20,30,40,50]\n",
    "\n",
    "for c in C_list:\n",
    "    svm_classifier = svm.SVC(C=c, kernel = \"linear\")\n",
    "    svm_classifier.fit(training_word_histograms, training_food_labels)\n",
    "    word_histograms = dictionary.create_word_histograms(test_file_names)\n",
    "    predicted_food_labels = svm_classifier.predict(word_histograms)\n",
    "    num_correct_predictions = np.sum(predicted_food_labels == test_food_labels)\n",
    "    recognition_acc = num_correct_predictions/len(test_food_labels)\n",
    "    print(\"Parameter C: \", c, \"    ; accuracy: \", recognition_acc)"
   ]
  },
  {
   "cell_type": "markdown",
   "metadata": {},
   "source": [
    "The highest accuracy of 84.4% can be achieved with C=50."
   ]
  },
  {
   "cell_type": "code",
   "execution_count": 18,
   "metadata": {},
   "outputs": [
    {
     "data": {
      "text/html": [
       "<style>#sk-container-id-2 {color: black;background-color: white;}#sk-container-id-2 pre{padding: 0;}#sk-container-id-2 div.sk-toggleable {background-color: white;}#sk-container-id-2 label.sk-toggleable__label {cursor: pointer;display: block;width: 100%;margin-bottom: 0;padding: 0.3em;box-sizing: border-box;text-align: center;}#sk-container-id-2 label.sk-toggleable__label-arrow:before {content: \"▸\";float: left;margin-right: 0.25em;color: #696969;}#sk-container-id-2 label.sk-toggleable__label-arrow:hover:before {color: black;}#sk-container-id-2 div.sk-estimator:hover label.sk-toggleable__label-arrow:before {color: black;}#sk-container-id-2 div.sk-toggleable__content {max-height: 0;max-width: 0;overflow: hidden;text-align: left;background-color: #f0f8ff;}#sk-container-id-2 div.sk-toggleable__content pre {margin: 0.2em;color: black;border-radius: 0.25em;background-color: #f0f8ff;}#sk-container-id-2 input.sk-toggleable__control:checked~div.sk-toggleable__content {max-height: 200px;max-width: 100%;overflow: auto;}#sk-container-id-2 input.sk-toggleable__control:checked~label.sk-toggleable__label-arrow:before {content: \"▾\";}#sk-container-id-2 div.sk-estimator input.sk-toggleable__control:checked~label.sk-toggleable__label {background-color: #d4ebff;}#sk-container-id-2 div.sk-label input.sk-toggleable__control:checked~label.sk-toggleable__label {background-color: #d4ebff;}#sk-container-id-2 input.sk-hidden--visually {border: 0;clip: rect(1px 1px 1px 1px);clip: rect(1px, 1px, 1px, 1px);height: 1px;margin: -1px;overflow: hidden;padding: 0;position: absolute;width: 1px;}#sk-container-id-2 div.sk-estimator {font-family: monospace;background-color: #f0f8ff;border: 1px dotted black;border-radius: 0.25em;box-sizing: border-box;margin-bottom: 0.5em;}#sk-container-id-2 div.sk-estimator:hover {background-color: #d4ebff;}#sk-container-id-2 div.sk-parallel-item::after {content: \"\";width: 100%;border-bottom: 1px solid gray;flex-grow: 1;}#sk-container-id-2 div.sk-label:hover label.sk-toggleable__label {background-color: #d4ebff;}#sk-container-id-2 div.sk-serial::before {content: \"\";position: absolute;border-left: 1px solid gray;box-sizing: border-box;top: 0;bottom: 0;left: 50%;z-index: 0;}#sk-container-id-2 div.sk-serial {display: flex;flex-direction: column;align-items: center;background-color: white;padding-right: 0.2em;padding-left: 0.2em;position: relative;}#sk-container-id-2 div.sk-item {position: relative;z-index: 1;}#sk-container-id-2 div.sk-parallel {display: flex;align-items: stretch;justify-content: center;background-color: white;position: relative;}#sk-container-id-2 div.sk-item::before, #sk-container-id-2 div.sk-parallel-item::before {content: \"\";position: absolute;border-left: 1px solid gray;box-sizing: border-box;top: 0;bottom: 0;left: 50%;z-index: -1;}#sk-container-id-2 div.sk-parallel-item {display: flex;flex-direction: column;z-index: 1;position: relative;background-color: white;}#sk-container-id-2 div.sk-parallel-item:first-child::after {align-self: flex-end;width: 50%;}#sk-container-id-2 div.sk-parallel-item:last-child::after {align-self: flex-start;width: 50%;}#sk-container-id-2 div.sk-parallel-item:only-child::after {width: 0;}#sk-container-id-2 div.sk-dashed-wrapped {border: 1px dashed gray;margin: 0 0.4em 0.5em 0.4em;box-sizing: border-box;padding-bottom: 0.4em;background-color: white;}#sk-container-id-2 div.sk-label label {font-family: monospace;font-weight: bold;display: inline-block;line-height: 1.2em;}#sk-container-id-2 div.sk-label-container {text-align: center;}#sk-container-id-2 div.sk-container {/* jupyter's `normalize.less` sets `[hidden] { display: none; }` but bootstrap.min.css set `[hidden] { display: none !important; }` so we also need the `!important` here to be able to override the default hidden behavior on the sphinx rendered scikit-learn.org. See: https://github.com/scikit-learn/scikit-learn/issues/21755 */display: inline-block !important;position: relative;}#sk-container-id-2 div.sk-text-repr-fallback {display: none;}</style><div id=\"sk-container-id-2\" class=\"sk-top-container\"><div class=\"sk-text-repr-fallback\"><pre>AdaBoostClassifier(n_estimators=150, random_state=0)</pre><b>In a Jupyter environment, please rerun this cell to show the HTML representation or trust the notebook. <br />On GitHub, the HTML representation is unable to render, please try loading this page with nbviewer.org.</b></div><div class=\"sk-container\" hidden><div class=\"sk-item\"><div class=\"sk-estimator sk-toggleable\"><input class=\"sk-toggleable__control sk-hidden--visually\" id=\"sk-estimator-id-2\" type=\"checkbox\" checked><label for=\"sk-estimator-id-2\" class=\"sk-toggleable__label sk-toggleable__label-arrow\">AdaBoostClassifier</label><div class=\"sk-toggleable__content\"><pre>AdaBoostClassifier(n_estimators=150, random_state=0)</pre></div></div></div></div></div>"
      ],
      "text/plain": [
       "AdaBoostClassifier(n_estimators=150, random_state=0)"
      ]
     },
     "execution_count": 18,
     "metadata": {},
     "output_type": "execute_result"
    }
   ],
   "source": [
    "from sklearn.ensemble import AdaBoostClassifier\n",
    "adb_classifier = AdaBoostClassifier(n_estimators=150, random_state=0)\n",
    "adb_classifier.fit(training_word_histograms, training_food_labels)"
   ]
  },
  {
   "cell_type": "markdown",
   "metadata": {},
   "source": [
    "#### Test algorithm with one test image"
   ]
  },
  {
   "cell_type": "code",
   "execution_count": 19,
   "metadata": {},
   "outputs": [
    {
     "name": "stdout",
     "output_type": "stream",
     "text": [
      "Food label:  [0 0 0 2 0 0 0 0 1 0 0 0 0 0 0 2 0 0 0 0 0 2 0 2 0 0 0 0 0 0 1 2 2 1 1 1 1\n",
      " 1 1 2 1 1 2 1 1 1 1 1 1 2 1 1 1 2 1 1 2 1 1 2 2 2 0 2 1 2 2 2 2 2 2 2 2 2\n",
      " 1 2 2 2 1 2 2 2 1 2 2 2 2 2 2 2]\n"
     ]
    }
   ],
   "source": [
    "test_file_name = [\"FoodImages/Test/Pasta/pasta35.jpg\"]\n",
    "word_histogram = dictionary.create_word_histograms(test_file_name)\n",
    "\n",
    "predicted_food_labels = adb_classifier.predict(word_histograms)\n",
    "print(\"Food label: \", predicted_food_labels)"
   ]
  },
  {
   "cell_type": "markdown",
   "metadata": {},
   "source": [
    "#### Test with all test images"
   ]
  },
  {
   "cell_type": "code",
   "execution_count": 20,
   "metadata": {},
   "outputs": [],
   "source": [
    "word_histograms = dictionary.create_word_histograms(test_file_names)\n",
    "predicted_food_labels = adb_classifier.predict(word_histograms)"
   ]
  },
  {
   "cell_type": "markdown",
   "metadata": {},
   "source": [
    "#### Evaluation: calculating recognition accuracy"
   ]
  },
  {
   "cell_type": "code",
   "execution_count": 21,
   "metadata": {},
   "outputs": [
    {
     "name": "stdout",
     "output_type": "stream",
     "text": [
      "0.8\n"
     ]
    }
   ],
   "source": [
    "num_correct_predictions = np.sum(predicted_food_labels == test_food_labels)\n",
    "recognition_acc = num_correct_predictions/len(test_food_labels)\n",
    "print(recognition_acc)"
   ]
  },
  {
   "cell_type": "markdown",
   "metadata": {},
   "source": [
    "#### Evaluation: compute confusion matrix"
   ]
  },
  {
   "cell_type": "code",
   "execution_count": 22,
   "metadata": {},
   "outputs": [
    {
     "name": "stdout",
     "output_type": "stream",
     "text": [
      "[[25  1  4]\n",
      " [ 0 22  8]\n",
      " [ 1  4 25]]\n"
     ]
    }
   ],
   "source": [
    "from sklearn.metrics import classification_report, confusion_matrix\n",
    "cm = confusion_matrix(test_food_labels, predicted_food_labels)\n",
    "print(cm)"
   ]
  },
  {
   "cell_type": "markdown",
   "metadata": {},
   "source": [
    "#### Vary n_estimators"
   ]
  },
  {
   "cell_type": "code",
   "execution_count": 23,
   "metadata": {},
   "outputs": [
    {
     "name": "stdout",
     "output_type": "stream",
     "text": [
      "n_estimators:  50     ; accuracy:  0.8444444444444444\n",
      "n_estimators:  100     ; accuracy:  0.8444444444444444\n",
      "n_estimators:  150     ; accuracy:  0.8444444444444444\n",
      "n_estimators:  200     ; accuracy:  0.8444444444444444\n",
      "n_estimators:  250     ; accuracy:  0.8444444444444444\n"
     ]
    }
   ],
   "source": [
    "N_estimators = [50,100,150,200,250]\n",
    "\n",
    "for n in N_estimators:\n",
    "    adb_classifier = AdaBoostClassifier(n_estimators=n, random_state=0)\n",
    "    adb_classifier.fit(training_word_histograms, training_food_labels)\n",
    "    word_histograms = dictionary.create_word_histograms(test_file_names)\n",
    "    predicted_food_labels = svm_classifier.predict(word_histograms)\n",
    "    num_correct_predictions = np.sum(predicted_food_labels == test_food_labels)\n",
    "    recognition_acc = num_correct_predictions/len(test_food_labels)\n",
    "    print(\"n_estimators: \", n, \"    ; accuracy: \", recognition_acc)"
   ]
  },
  {
   "cell_type": "markdown",
   "metadata": {},
   "source": [
    "The same accuracy of 84.4% is achieved for all tested values of n_estimators."
   ]
  },
  {
   "attachments": {},
   "cell_type": "markdown",
   "metadata": {},
   "source": [
    "In this example SVM performs as good as KNN. However, SVM is less sensible to the choice of its hyperparameter."
   ]
  }
 ],
 "metadata": {
  "kernelspec": {
   "display_name": "Python 3.10.5 64-bit",
   "language": "python",
   "name": "python3"
  },
  "language_info": {
   "codemirror_mode": {
    "name": "ipython",
    "version": 3
   },
   "file_extension": ".py",
   "mimetype": "text/x-python",
   "name": "python",
   "nbconvert_exporter": "python",
   "pygments_lexer": "ipython3",
   "version": "3.10.7"
  },
  "orig_nbformat": 4,
  "vscode": {
   "interpreter": {
    "hash": "26de051ba29f2982a8de78e945f0abaf191376122a1563185a90213a26c5da77"
   }
  }
 },
 "nbformat": 4,
 "nbformat_minor": 2
}
